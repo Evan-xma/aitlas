{
 "cells": [
  {
   "cell_type": "markdown",
   "metadata": {},
   "source": [
    "# Example of the `aitlas` toolbox in the context of multi label image classification\n",
    "\n",
    "This notebook shows a sample implementation of a multi label image classification using the `aitlas` toolbox using the MLRS Net multi label dataset."
   ]
  },
  {
   "cell_type": "code",
   "execution_count": 1,
   "metadata": {},
   "outputs": [
    {
     "name": "stderr",
     "output_type": "stream",
     "text": [
      "/home/xm56/miniconda/envs/aitlas/lib/python3.8/site-packages/eolearn/__init__.py:12: UserWarning: You are currently using an outdated installation of `eo-learn` for submodules ['core', 'geometry']. You can find instructions on how to install `eo-learn` correctly at https://github.com/sentinel-hub/eo-learn/issues/733.\n",
      "  warnings.warn(\n",
      "/home/xm56/miniconda/envs/aitlas/lib/python3.8/site-packages/tqdm/auto.py:21: TqdmWarning: IProgress not found. Please update jupyter and ipywidgets. See https://ipywidgets.readthedocs.io/en/stable/user_install.html\n",
      "  from .autonotebook import tqdm as notebook_tqdm\n"
     ]
    }
   ],
   "source": [
    "from aitlas.datasets import MLRSNetMultiLabelDataset\n",
    "from aitlas.models import ResNet50MultiLabel\n",
    "from aitlas.transforms import ResizeCenterCropFlipHVToTensor, ResizeCenterCropToTensor\n",
    "from aitlas.utils import image_loader"
   ]
  },
  {
   "cell_type": "markdown",
   "metadata": {},
   "source": [
    "## Load the dataset"
   ]
  },
  {
   "cell_type": "code",
   "execution_count": 2,
   "metadata": {},
   "outputs": [
    {
     "ename": "FileNotFoundError",
     "evalue": "[Errno 2] No such file or directory: './data/MLRSNet/multilabels.txt'",
     "output_type": "error",
     "traceback": [
      "\u001b[0;31m---------------------------------------------------------------------------\u001b[0m",
      "\u001b[0;31mFileNotFoundError\u001b[0m                         Traceback (most recent call last)",
      "\u001b[1;32m/home/xm56/aitlas/examples/multilabel_classification_example_mlrs_net.ipynb Cell 4\u001b[0m line \u001b[0;36m5\n\u001b[1;32m      <a href='vscode-notebook-cell://ssh-remote%2Bpizer.egr.duke.edu/home/xm56/aitlas/examples/multilabel_classification_example_mlrs_net.ipynb#W3sdnNjb2RlLXJlbW90ZQ%3D%3D?line=0'>1</a>\u001b[0m dataset_config \u001b[39m=\u001b[39m {\n\u001b[1;32m      <a href='vscode-notebook-cell://ssh-remote%2Bpizer.egr.duke.edu/home/xm56/aitlas/examples/multilabel_classification_example_mlrs_net.ipynb#W3sdnNjb2RlLXJlbW90ZQ%3D%3D?line=1'>2</a>\u001b[0m     \u001b[39m\"\u001b[39m\u001b[39mdata_dir\u001b[39m\u001b[39m\"\u001b[39m: \u001b[39m\"\u001b[39m\u001b[39m./data/MLRSNet/images\u001b[39m\u001b[39m\"\u001b[39m,\n\u001b[1;32m      <a href='vscode-notebook-cell://ssh-remote%2Bpizer.egr.duke.edu/home/xm56/aitlas/examples/multilabel_classification_example_mlrs_net.ipynb#W3sdnNjb2RlLXJlbW90ZQ%3D%3D?line=2'>3</a>\u001b[0m     \u001b[39m\"\u001b[39m\u001b[39mcsv_file\u001b[39m\u001b[39m\"\u001b[39m: \u001b[39m\"\u001b[39m\u001b[39m./data/MLRSNet/multilabels.txt\u001b[39m\u001b[39m\"\u001b[39m\n\u001b[1;32m      <a href='vscode-notebook-cell://ssh-remote%2Bpizer.egr.duke.edu/home/xm56/aitlas/examples/multilabel_classification_example_mlrs_net.ipynb#W3sdnNjb2RlLXJlbW90ZQ%3D%3D?line=3'>4</a>\u001b[0m }\n\u001b[0;32m----> <a href='vscode-notebook-cell://ssh-remote%2Bpizer.egr.duke.edu/home/xm56/aitlas/examples/multilabel_classification_example_mlrs_net.ipynb#W3sdnNjb2RlLXJlbW90ZQ%3D%3D?line=4'>5</a>\u001b[0m dataset \u001b[39m=\u001b[39m MLRSNetMultiLabelDataset(dataset_config)\n",
      "File \u001b[0;32m~/miniconda/envs/aitlas/lib/python3.8/site-packages/aitlas/datasets/mlrs_net.py:80\u001b[0m, in \u001b[0;36mMLRSNetMultiLabelDataset.__init__\u001b[0;34m(self, config)\u001b[0m\n\u001b[1;32m     78\u001b[0m \u001b[39mdef\u001b[39;00m \u001b[39m__init__\u001b[39m(\u001b[39mself\u001b[39m, config):\n\u001b[1;32m     79\u001b[0m     \u001b[39m# now call the constructor to validate the schema and load the data\u001b[39;00m\n\u001b[0;32m---> 80\u001b[0m     \u001b[39msuper\u001b[39;49m()\u001b[39m.\u001b[39;49m\u001b[39m__init__\u001b[39;49m(config)\n",
      "File \u001b[0;32m~/miniconda/envs/aitlas/lib/python3.8/site-packages/aitlas/datasets/multilabel_classification.py:33\u001b[0m, in \u001b[0;36mMultiLabelClassificationDataset.__init__\u001b[0;34m(self, config)\u001b[0m\n\u001b[1;32m     31\u001b[0m \u001b[39mself\u001b[39m\u001b[39m.\u001b[39mdata_dir \u001b[39m=\u001b[39m \u001b[39mself\u001b[39m\u001b[39m.\u001b[39mconfig\u001b[39m.\u001b[39mdata_dir\n\u001b[1;32m     32\u001b[0m \u001b[39mself\u001b[39m\u001b[39m.\u001b[39mcsv_file \u001b[39m=\u001b[39m \u001b[39mself\u001b[39m\u001b[39m.\u001b[39mconfig\u001b[39m.\u001b[39mcsv_file\n\u001b[0;32m---> 33\u001b[0m \u001b[39mself\u001b[39m\u001b[39m.\u001b[39mdata \u001b[39m=\u001b[39m \u001b[39mself\u001b[39;49m\u001b[39m.\u001b[39;49mload_dataset(\u001b[39mself\u001b[39;49m\u001b[39m.\u001b[39;49mdata_dir, \u001b[39mself\u001b[39;49m\u001b[39m.\u001b[39;49mcsv_file)\n",
      "File \u001b[0;32m~/miniconda/envs/aitlas/lib/python3.8/site-packages/aitlas/datasets/multilabel_classification.py:137\u001b[0m, in \u001b[0;36mMultiLabelClassificationDataset.load_dataset\u001b[0;34m(self, data_dir, csv_file)\u001b[0m\n\u001b[1;32m    135\u001b[0m         header \u001b[39m=\u001b[39m f\u001b[39m.\u001b[39mreadline()\u001b[39m.\u001b[39mdecode(\u001b[39m\"\u001b[39m\u001b[39mutf-8\u001b[39m\u001b[39m\"\u001b[39m)\n\u001b[1;32m    136\u001b[0m         \u001b[39mself\u001b[39m\u001b[39m.\u001b[39mlabels \u001b[39m=\u001b[39m header[header\u001b[39m.\u001b[39mfind(\u001b[39m\"\u001b[39m\u001b[39m\\t\u001b[39;00m\u001b[39m\"\u001b[39m) \u001b[39m+\u001b[39m \u001b[39m1\u001b[39m:\u001b[39m-\u001b[39m\u001b[39m1\u001b[39m]\u001b[39m.\u001b[39msplit(\u001b[39m\"\u001b[39m\u001b[39m\\t\u001b[39;00m\u001b[39m\"\u001b[39m)\n\u001b[0;32m--> 137\u001b[0m \u001b[39mreturn\u001b[39;00m load_voc_format_dataset(data_dir, csv_file)\n",
      "File \u001b[0;32m~/miniconda/envs/aitlas/lib/python3.8/site-packages/aitlas/utils/utils.py:153\u001b[0m, in \u001b[0;36mload_voc_format_dataset\u001b[0;34m(dir_path, csv_file_path)\u001b[0m\n\u001b[1;32m    151\u001b[0m \u001b[39m# read labels\u001b[39;00m\n\u001b[1;32m    152\u001b[0m multi_hot_labels \u001b[39m=\u001b[39m {}\n\u001b[0;32m--> 153\u001b[0m \u001b[39mwith\u001b[39;00m \u001b[39mopen\u001b[39;49m(csv_file_path, \u001b[39m\"\u001b[39;49m\u001b[39mrb\u001b[39;49m\u001b[39m\"\u001b[39;49m) \u001b[39mas\u001b[39;00m f:\n\u001b[1;32m    154\u001b[0m     lines \u001b[39m=\u001b[39m f\u001b[39m.\u001b[39mreadlines()\n\u001b[1;32m    155\u001b[0m     \u001b[39mfor\u001b[39;00m line \u001b[39min\u001b[39;00m lines[\u001b[39m1\u001b[39m:]:\n",
      "\u001b[0;31mFileNotFoundError\u001b[0m: [Errno 2] No such file or directory: './data/MLRSNet/multilabels.txt'"
     ]
    }
   ],
   "source": [
    "dataset_config = {\n",
    "    \"data_dir\": \"./data/MLRSNet/images\",\n",
    "    \"csv_file\": \"./data/MLRSNet/multilabels.txt\"\n",
    "}\n",
    "dataset = MLRSNetMultiLabelDataset(dataset_config)"
   ]
  },
  {
   "cell_type": "markdown",
   "metadata": {},
   "source": [
    "## Show images from the dataset"
   ]
  },
  {
   "cell_type": "code",
   "execution_count": null,
   "metadata": {
    "scrolled": false
   },
   "outputs": [],
   "source": [
    "fig1 = dataset.show_image(1000)\n",
    "fig2 = dataset.show_image(30)\n",
    "fig3 = dataset.show_batch(15)"
   ]
  },
  {
   "cell_type": "markdown",
   "metadata": {},
   "source": [
    "## Inspect the data"
   ]
  },
  {
   "cell_type": "code",
   "execution_count": null,
   "metadata": {},
   "outputs": [],
   "source": [
    "dataset.show_samples()"
   ]
  },
  {
   "cell_type": "code",
   "execution_count": null,
   "metadata": {},
   "outputs": [],
   "source": [
    "dataset.data_distribution_table()"
   ]
  },
  {
   "cell_type": "code",
   "execution_count": null,
   "metadata": {},
   "outputs": [],
   "source": [
    "fig = dataset.data_distribution_barchart()"
   ]
  },
  {
   "cell_type": "markdown",
   "metadata": {},
   "source": [
    "## Load train and test splits"
   ]
  },
  {
   "cell_type": "code",
   "execution_count": null,
   "metadata": {},
   "outputs": [],
   "source": [
    "train_dataset_config = {\n",
    "    \"batch_size\": 16,\n",
    "    \"shuffle\": True,\n",
    "    \"num_workers\": 4,\n",
    "    \"data_dir\": \"./data/MLRSNet/images\",\n",
    "    \"csv_file\": \"./data/MLRSNet/train.csv\"\n",
    "}\n",
    "\n",
    "train_dataset = MLRSNetMultiLabelDataset(train_dataset_config)\n",
    "train_dataset.transform = ResizeCenterCropFlipHVToTensor() \n",
    "\n",
    "test_dataset_config = {\n",
    "    \"batch_size\": 4,\n",
    "    \"shuffle\": False,\n",
    "    \"num_workers\": 4,\n",
    "    \"data_dir\": \"./data/MLRSNet/images\",\n",
    "    \"csv_file\": \"./data/MLRSNet/test.csv\",\n",
    "    \"transforms\": [\"aitlas.transforms.ResizeCenterCropToTensor\"]\n",
    "}\n",
    "\n",
    "test_dataset = MLRSNetMultiLabelDataset(test_dataset_config)\n",
    "len(train_dataset), len(test_dataset)"
   ]
  },
  {
   "cell_type": "markdown",
   "metadata": {},
   "source": [
    "## Setup and create the model for training"
   ]
  },
  {
   "cell_type": "code",
   "execution_count": null,
   "metadata": {},
   "outputs": [],
   "source": [
    "epochs = 10\n",
    "model_directory = \"/data/scratch/public/mlrsnet/best_checkpoint_1699726140_24.pth.tar\"\n",
    "model_config = {\n",
    "    \"num_classes\": 60, \n",
    "    \"learning_rate\": 0.0001,\n",
    "    \"pretrained\": True, \n",
    "    \"threshold\": 0.5, \n",
    "    \"metrics\": [\"accuracy\", \"precision\", \"recall\", \"f1_score\"]\n",
    "}\n",
    "model = ResNet50MultiLabel(model_config)\n",
    "model.prepare()"
   ]
  },
  {
   "cell_type": "markdown",
   "metadata": {},
   "source": [
    "## Training and evaluation"
   ]
  },
  {
   "cell_type": "code",
   "execution_count": null,
   "metadata": {},
   "outputs": [],
   "source": [
    "model.train_and_evaluate_model(\n",
    "    train_dataset=train_dataset,\n",
    "    epochs=epochs,\n",
    "    model_directory=model_directory,\n",
    "    val_dataset=test_dataset,\n",
    "    run_id='1',\n",
    ")"
   ]
  },
  {
   "cell_type": "markdown",
   "metadata": {},
   "source": [
    "## Predictions"
   ]
  },
  {
   "cell_type": "code",
   "execution_count": null,
   "metadata": {},
   "outputs": [],
   "source": [
    "model_path = \"./experiments/MLRSNet/checkpoint.pth.tar\"\n",
    "#labels = MLRSNetMultiLabelDataset.labels\n",
    "labels = [\"airplane\", \"airport\", \"bare soil\", \"baseball diamond\", \"basketball court\", \"beach\", \"bridge\", \"buildings\",\n",
    "          \"cars\", \"cloud\", \"containers\", \"crosswalk\", \"dense residential area\", \"desert\", \"dock\", \"factory\", \"field\",\n",
    "          \"football field\", \"forest\", \"freeway\", \"golf course\", \"grass\", \"greenhouse\", \"gully\", \"habor\", \"intersection\",\n",
    "          \"island\", \"lake\", \"mobile home\", \"mountain\", \"overpass\", \"park\", \"parking lot\", \"parkway\", \"pavement\",\n",
    "          \"railway\", \"railway station\", \"river\", \"road\", \"roundabout\", \"runway\", \"sand\", \"sea\", \"ships\", \"snow\",\n",
    "          \"snowberg\", \"sparse residential area\", \"stadium\", \"swimming pool\", \"tanks\", \"tennis court\", \"terrace\",\n",
    "          \"track\", \"trail\", \"transmission tower\", \"trees\", \"water\", \"chaparral\", \"wetland\", \"wind turbine\"]\n",
    "transform = ResizeCenterCropToTensor()\n",
    "model.load_model(model_path)\n",
    "\n",
    "image = image_loader('./data/predict/image1.tif')\n",
    "fig = model.predict_image(image, labels, transform)\n",
    "\n",
    "image = image_loader('./data/predict/image2.tif')\n",
    "fig = model.predict_image(image, labels, transform)\n",
    "\n",
    "image = image_loader('./data/predict/image3.tif')\n",
    "fig = model.predict_image(image, labels, transform)\n",
    "\n",
    "image = image_loader('./data/predict/image4.tif')\n",
    "fig = model.predict_image(image, labels, transform)"
   ]
  }
 ],
 "metadata": {
  "kernelspec": {
   "display_name": "aitlas",
   "language": "python",
   "name": "python3"
  },
  "language_info": {
   "codemirror_mode": {
    "name": "ipython",
    "version": 3
   },
   "file_extension": ".py",
   "mimetype": "text/x-python",
   "name": "python",
   "nbconvert_exporter": "python",
   "pygments_lexer": "ipython3",
   "version": "3.8.18"
  }
 },
 "nbformat": 4,
 "nbformat_minor": 2
}
